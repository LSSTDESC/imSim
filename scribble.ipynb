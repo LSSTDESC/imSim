{
 "cells": [
  {
   "cell_type": "code",
   "execution_count": 1,
   "metadata": {},
   "outputs": [
    {
     "name": "stdout",
     "output_type": "stream",
     "text": [
      "Overriding default configuration file with /hpc/home/zg64/.conda/envs/imsim/share/eups/Linux64/dustmaps_cachedata/g41a3ec361e+164b02c8d4/config/.dustmapsrc\n"
     ]
    }
   ],
   "source": [
    "import numpy as np\n",
    "from imsim import make_batoid_wcs, CCD_Fringing"
   ]
  },
  {
   "cell_type": "code",
   "execution_count": 2,
   "metadata": {},
   "outputs": [],
   "source": [
    "cra = 54.9348753510528\n",
    "cdec = -35.8385705255579\n",
    "\n",
    "mjd = 60232.3635999295\n",
    "rottelpos = 350.946271812373\n",
    "band = 'y'\n",
    "\n",
    "xarr, yarr = np.meshgrid(range(4096), range(4004))\n",
    "\n",
    "#-------------------------------------------------------------------------\n",
    "\n",
    "# Testing a CCD within the interpolation range of OH spatial variation\n",
    "ra = 54.86\n",
    "dec = -35.76\n",
    "det_num = 95\n",
    "wcs = make_batoid_wcs(ra, dec, rottelpos, mjd, band, 'LsstCam')\n",
    "\n",
    "ccd_fringing = CCD_Fringing(img_wcs = wcs,c_wcs=[cra, cdec],seed = det_num,spatial_vary= True)\n",
    "\n",
    "fringe_map = ccd_fringing.calculate_fringe_amplitude(xarr,yarr)"
   ]
  },
  {
   "cell_type": "code",
   "execution_count": 15,
   "metadata": {},
   "outputs": [
    {
     "data": {
      "text/plain": [
       "(1.0020542795796532, 0.9979457204203467)"
      ]
     },
     "execution_count": 15,
     "metadata": {},
     "output_type": "execute_result"
    }
   ],
   "source": [
    "fringe_map.max(), fringe_map.min()"
   ]
  },
  {
   "cell_type": "code",
   "execution_count": 18,
   "metadata": {},
   "outputs": [],
   "source": [
    "if True in np.isnan(fringe_map):\n",
    "    print('dfd')"
   ]
  },
  {
   "cell_type": "code",
   "execution_count": 14,
   "metadata": {},
   "outputs": [
    {
     "ename": "ValueError",
     "evalue": "This notebook is not intended to be run as a script.",
     "output_type": "error",
     "traceback": [
      "\u001b[0;31m---------------------------------------------------------------------------\u001b[0m",
      "\u001b[0;31mValueError\u001b[0m                                Traceback (most recent call last)",
      "Cell \u001b[0;32mIn[14], line 2\u001b[0m\n\u001b[1;32m      1\u001b[0m \u001b[39mif\u001b[39;00m np\u001b[39m.\u001b[39mall(fringe_map) \u001b[39m!=\u001b[39m \u001b[39mFalse\u001b[39;00m:\n\u001b[0;32m----> 2\u001b[0m     \u001b[39mraise\u001b[39;00m \u001b[39mValueError\u001b[39;00m(\u001b[39m\"\u001b[39m\u001b[39mThis notebook is not intended to be run as a script.\u001b[39m\u001b[39m\"\u001b[39m)\n",
      "\u001b[0;31mValueError\u001b[0m: This notebook is not intended to be run as a script."
     ]
    }
   ],
   "source": [
    "if np.all(fringe_map) != True:\n",
    "    raise ValueError(\"Zero value in the fringe map!\")"
   ]
  },
  {
   "cell_type": "code",
   "execution_count": 9,
   "metadata": {},
   "outputs": [
    {
     "data": {
      "text/plain": [
       "False"
      ]
     },
     "execution_count": 9,
     "metadata": {},
     "output_type": "execute_result"
    }
   ],
   "source": [
    "np.all(np.array([[1,2],[1,0]]))"
   ]
  },
  {
   "cell_type": "code",
   "execution_count": 11,
   "metadata": {},
   "outputs": [
    {
     "data": {
      "text/plain": [
       "(2, 2)"
      ]
     },
     "execution_count": 11,
     "metadata": {},
     "output_type": "execute_result"
    }
   ],
   "source": [
    "np.array([[1,2],[1,0]]).shape"
   ]
  },
  {
   "cell_type": "code",
   "execution_count": 20,
   "metadata": {},
   "outputs": [
    {
     "data": {
      "text/plain": [
       "0.9979457204203467"
      ]
     },
     "execution_count": 20,
     "metadata": {},
     "output_type": "execute_result"
    }
   ],
   "source": [
    "fringe_map.min()"
   ]
  },
  {
   "cell_type": "code",
   "execution_count": null,
   "metadata": {},
   "outputs": [],
   "source": []
  }
 ],
 "metadata": {
  "kernelspec": {
   "display_name": "Python 3 (ipykernel)",
   "language": "python",
   "name": "python3"
  },
  "language_info": {
   "codemirror_mode": {
    "name": "ipython",
    "version": 3
   },
   "file_extension": ".py",
   "mimetype": "text/x-python",
   "name": "python",
   "nbconvert_exporter": "python",
   "pygments_lexer": "ipython3",
   "version": "3.8.16"
  },
  "orig_nbformat": 4
 },
 "nbformat": 4,
 "nbformat_minor": 2
}
