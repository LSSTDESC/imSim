{
 "cells": [
  {
   "cell_type": "code",
   "execution_count": 5,
   "metadata": {},
   "outputs": [],
   "source": [
    "import numpy as np\n",
    "from imsim import make_batoid_wcs, CCD_Fringing\n",
    "import galsim"
   ]
  },
  {
   "cell_type": "code",
   "execution_count": 26,
   "metadata": {},
   "outputs": [],
   "source": [
    "cra = 54.9348753510528\n",
    "cdec = -35.8385705255579\n",
    "\n",
    "mjd = 60232.3635999295\n",
    "rottelpos = 350.946271812373\n",
    "band = 'y'\n",
    "det_num = 94\n",
    "\n",
    "xarr, yarr = np.meshgrid(range(4096), range(4004))\n",
    "ra = 54.86\n",
    "dec = -35.76\n",
    "wcs = make_batoid_wcs(ra, dec, rottelpos, mjd, band, 'LsstCam')"
   ]
  },
  {
   "cell_type": "code",
   "execution_count": 29,
   "metadata": {},
   "outputs": [],
   "source": [
    "det_num = 94\n",
    "world_center = galsim.CelestialCoord(cra*galsim.degrees, cdec*galsim.degrees)\n",
    "\n",
    "config = {\n",
    "    'image': {\n",
    "        'type': 'LSST_Image',\n",
    "        'xsize': image_xsize,\n",
    "        'ysize': image_xsize,\n",
    "        'wcs': wcs,\n",
    "        'nobjects': 0,\n",
    "    },\n",
    "}\n",
    "\n",
    "galsim.config.ProcessInput(config)\n",
    "image = galsim.config.BuildImage(config)\n",
    "\n",
    "ccd_fringing = CCD_Fringing(true_center=image.wcs.toWorld(image.true_center),\n",
    "                            boresight=world_center,\n",
    "                            seed=det_num, spatial_vary=True)"
   ]
  },
  {
   "cell_type": "code",
   "execution_count": 30,
   "metadata": {},
   "outputs": [
    {
     "name": "stdout",
     "output_type": "stream",
     "text": [
      "0.060616714160442696 0.0811556721151352\n"
     ]
    }
   ],
   "source": [
    "fringe_map = ccd_fringing.calculate_fringe_amplitude(xarr,yarr)"
   ]
  },
  {
   "cell_type": "code",
   "execution_count": 31,
   "metadata": {},
   "outputs": [],
   "source": [
    "np.testing.assert_approx_equal(fringe_map.max(), 1.00205, significant=4)\n",
    "np.testing.assert_approx_equal(fringe_map.min(), 0.99794, significant=4)\n"
   ]
  },
  {
   "cell_type": "code",
   "execution_count": 32,
   "metadata": {},
   "outputs": [],
   "source": [
    "np.testing.assert_approx_equal(np.std(np.diag(fringe_map)), 0.0014, significant=2)"
   ]
  },
  {
   "cell_type": "code",
   "execution_count": 8,
   "metadata": {},
   "outputs": [
    {
     "data": {
      "text/plain": [
       "coord.CelestialCoord(coord.Angle(0.9574907377545909, coord.radians), coord.Angle(-0.6240842191487234, coord.radians))"
      ]
     },
     "execution_count": 8,
     "metadata": {},
     "output_type": "execute_result"
    }
   ],
   "source": [
    "image.wcs.toWorld(image.true_center)"
   ]
  },
  {
   "cell_type": "code",
   "execution_count": 28,
   "metadata": {},
   "outputs": [],
   "source": []
  },
  {
   "cell_type": "code",
   "execution_count": 10,
   "metadata": {},
   "outputs": [
    {
     "data": {
      "text/plain": [
       "(coord.Angle(-2.523850321368909e-06, coord.radians),\n",
       " coord.Angle(4.552136218678742e-05, coord.radians))"
      ]
     },
     "execution_count": 10,
     "metadata": {},
     "output_type": "execute_result"
    }
   ],
   "source": [
    "world_center.project(image.wcs.toWorld(image.true_center))"
   ]
  },
  {
   "cell_type": "code",
   "execution_count": null,
   "metadata": {},
   "outputs": [],
   "source": []
  }
 ],
 "metadata": {
  "kernelspec": {
   "display_name": "Python 3 (ipykernel)",
   "language": "python",
   "name": "python3"
  },
  "language_info": {
   "codemirror_mode": {
    "name": "ipython",
    "version": 3
   },
   "file_extension": ".py",
   "mimetype": "text/x-python",
   "name": "python",
   "nbconvert_exporter": "python",
   "pygments_lexer": "ipython3",
   "version": "3.8.16"
  },
  "orig_nbformat": 4
 },
 "nbformat": 4,
 "nbformat_minor": 2
}
