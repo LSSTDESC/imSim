{
 "cells": [
  {
   "cell_type": "code",
   "execution_count": 1,
   "metadata": {},
   "outputs": [],
   "source": [
    "%matplotlib inline\n",
    "import sys\n",
    "from collections import defaultdict\n",
    "import numpy as np\n",
    "import matplotlib.pyplot as plt\n",
    "import lsst.afw.detection as afw_detect\n",
    "import lsst.afw.image as afw_image\n",
    "import lsst.afw.geom as afw_geom\n",
    "import lsst.afw.math as afw_math"
   ]
  },
  {
   "cell_type": "code",
   "execution_count": 2,
   "metadata": {},
   "outputs": [],
   "source": [
    "def get_bbox(keyword, dxmin=0, dymin=0, dxmax=0, dymax=0):\n",
    "    \"\"\"\n",
    "    Parse an NOAO section keyword value (e.g., DATASEC =\n",
    "    '[1:509,1:200]') from the FITS header and return the corresponding\n",
    "    bounding box for sub-image retrieval.\n",
    "    \"\"\"\n",
    "    xmin, xmax, ymin, ymax \\\n",
    "        = [val - 1 for val in eval(keyword.replace(':', ','))]\n",
    "    bbox = afw_geom.Box2I(afw_geom.Point2I(xmin + dxmin, ymin + dymin),\n",
    "                          afw_geom.Point2I(xmax + dxmax, ymax + dymax))\n",
    "    return bbox\n",
    "\n",
    "def trimmed_image(decam_file, hdu, trimsec, biassec):\n",
    "    \"\"\"\n",
    "    Read in an HDU from the DECam file, do an overscan subtraction\n",
    "    and return the trimmed image.\n",
    "    \"\"\"\n",
    "    full_image = afw_image.ImageF(decam_file, hdu)\n",
    "    md = afw_image.readMetadata(decam_file, hdu)\n",
    "    image = full_image[get_bbox(md.getScalar(trimsec))]\n",
    "    oscan = full_image[get_bbox(md.getScalar(biassec))]\n",
    "    oscan_rows = np.array([np.median(oscan.array[j,])\n",
    "                           for j in range(oscan.array.shape[0])])\n",
    "    ny, nx = image.array.shape\n",
    "    for j in range(ny):\n",
    "        image.array[j,] -= oscan_rows[j]\n",
    "    return image\n",
    "\n",
    "def get_footprint_set(image, npix_min=2, nsig=20):\n",
    "    \"\"\"\n",
    "    Set threshold at nsig*stdevclip + median and return\n",
    "    footprint set of detected objects.\n",
    "    \"\"\"\n",
    "    stats = afw_math.makeStatistics(image, afw_math.MEDIAN | afw_math.STDEVCLIP)\n",
    "    median = stats.getValue(afw_math.MEDIAN)\n",
    "    stdev_clip = stats.getValue(afw_math.STDEVCLIP)\n",
    "    threshold_value = median + nsig*stdev_clip\n",
    "    threshold = afw_detect.Threshold(threshold_value)\n",
    "    return afw_detect.FootprintSet(image, threshold, npix_min)\n",
    "\n",
    "def exptime(decam_file):\n",
    "    \"Read the exposure time from the EXPTIME header keyword.\"\n",
    "    md = afw_image.readMetadata(decam_file)\n",
    "    return md.getScalar('EXPTIME')"
   ]
  },
  {
   "cell_type": "code",
   "execution_count": 3,
   "metadata": {},
   "outputs": [
    {
     "name": "stdout",
     "output_type": "stream",
     "text": [
      "1 2 3 4 5 6 7 8 9 10 11 12 13 14 15 16 17 18 19 20 21 22 23 24 25 26 27 28 29 30 31 32 33 34 35 36 37 38 39 40 41 42 43 44 45 46 47 48 49 50 51 52 53 54 55 56 57 58 59 60 61 62 "
     ]
    }
   ],
   "source": [
    "# DECam darks at http://data.darkenergysurvey.org/fnalmisc/decamdarks/\n",
    "decam_file = 'DECam_00500238.fits.fz'\n",
    "CR_count = defaultdict(lambda: 0)\n",
    "for hdu in range(1, 63):\n",
    "    sys.stdout.write('%i ' % hdu)\n",
    "    for amp in 'AB':\n",
    "        trimsec = 'TRIMSEC' + amp\n",
    "        biassec = 'BIASSEC' + amp\n",
    "        image = trimmed_image(decam_file, hdu, trimsec, biassec)\n",
    "        fp_set = get_footprint_set(image)\n",
    "        CR_count[hdu] += len(fp_set.getFootprints())"
   ]
  },
  {
   "cell_type": "code",
   "execution_count": 4,
   "metadata": {},
   "outputs": [
    {
     "name": "stdout",
     "output_type": "stream",
     "text": [
      "Median # CRs per CCD: 682.0\n"
     ]
    },
    {
     "data": {
      "image/png": "[encoded data removed]",
      "text/plain": [
       "<matplotlib.figure.Figure at 0x7f2b999fc390>"
      ]
     },
     "metadata": {},
     "output_type": "display_data"
    }
   ],
   "source": [
    "exptime = exptime(decam_file)\n",
    "values = list(CR_count.values())\n",
    "plt.hist(values, bins=30, histtype='step', range=(550, 800))\n",
    "plt.xlabel('Cosmic Rays per CCD, {} s exposure'.format(exptime))\n",
    "median_count = np.median(values)\n",
    "print(\"Median # CRs per CCD:\", median_count)"
   ]
  },
  {
   "cell_type": "code",
   "execution_count": 5,
   "metadata": {},
   "outputs": [
    {
     "name": "stdout",
     "output_type": "stream",
     "text": [
      "Cosmic-ray rate at CTIO: 1.20e-12 CR/s/micron**3\n",
      "\n",
      "Cosmic-rays per CCD per 30s exposure at LSST: 5.89\n"
     ]
    }
   ],
   "source": [
    "# DECam CCD physical parameters\n",
    "pixel_size = 15 # microns\n",
    "thickness = 250 # microns\n",
    "num_pixels = 4096*2048\n",
    "\n",
    "CR_rate = median_count/pixel_size**2/thickness/num_pixels/exptime\n",
    "print(\"Cosmic-ray rate at CTIO: {:.2e} CR/s/micron**3\\n\".format(CR_rate))\n",
    "\n",
    "pixel_lsst = 10 # micron\n",
    "thickness_lsst = 100 # micron\n",
    "num_pixels_lsst = 4072*4000\n",
    "exptime_lsst = 30 # s\n",
    "\n",
    "LSST_CRs = CR_rate*pixel_lsst**2*thickness_lsst*num_pixels_lsst*exptime_lsst\n",
    "print('Cosmic-rays per CCD per 30s exposure at LSST: {:.2f}'.format(LSST_CRs))"
   ]
  }
 ],
 "metadata": {
  "kernelspec": {
   "display_name": "Python 3",
   "language": "python",
   "name": "python3"
  },
  "language_info": {
   "codemirror_mode": {
    "name": "ipython",
    "version": 3
   },
   "file_extension": ".py",
   "mimetype": "text/x-python",
   "name": "python",
   "nbconvert_exporter": "python",
   "pygments_lexer": "ipython3",
   "version": "3.6.2"
  }
 },
 "nbformat": 4,
 "nbformat_minor": 2
}
